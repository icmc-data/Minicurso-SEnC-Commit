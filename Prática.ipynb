{
 "cells": [
  {
   "cell_type": "markdown",
   "metadata": {},
   "source": [
    "## Minicurso introdução ao Machine Learning\n",
    "\n",
    "Já vimos os principais princípios teóricos que são a base da ciência de dados e do aprendizado de máquina. Agora é hora de colocarmos isso em prática usando Python. Vamos usar quatro bibliotecas no decorrer da prática:\n",
    "\n",
    "`Pandas`: Biblioteca para lidar com dados tabelados\n",
    "\n",
    "`Matplotlib`: Biblioteca para fazer gráficos\n",
    "\n",
    "`Scikit-Learn`: Biblioteca para aprendizado de máquina\n",
    "\n",
    "Evidentemente cada uma dessas bibliotecas é bem grande e demora um bom tempo para ser estudada, então nosso objetivo nesse minicurso é passar as principais funcionalidades de cada uma em uma aplicação prática. É um bom começo para quem pretende se aprofundar individualmente em cada uma no futuro.\n",
    "\n",
    "No decorrer da prática estarão presentes várias perguntas para respondermos analisando os dados, assim será possivel entender como as ferramentas funcionam em um cenário real."
   ]
  },
  {
   "cell_type": "code",
   "execution_count": null,
   "metadata": {},
   "outputs": [],
   "source": [
    "# Vamos começar importando as bibliotecas\n",
    "# (iremos importar o scikit-learn mais tarde conforme precisarmos)\n",
    "import pandas as pd\n",
    "import matplotlib.pyplot as plt"
   ]
  },
  {
   "cell_type": "markdown",
   "metadata": {},
   "source": [
    "### Carregando os dados\n",
    "Os dados podem estar em vários formatos, porem o mais comum é o arquivo `csv`. O Pandas possui um método proprio para carregar arquivos nesse formato, assim como em vários outros como `json`, `xls`, `SQL`, etc."
   ]
  },
  {
   "cell_type": "code",
   "execution_count": null,
   "metadata": {},
   "outputs": [],
   "source": [
    "# Vamos guardar o resultado em uma variavel chamada df\n",
    "df = pd.read_csv('titanic.csv')"
   ]
  },
  {
   "cell_type": "code",
   "execution_count": null,
   "metadata": {},
   "outputs": [],
   "source": [
    "# Vamos conferir qual o tipo desse objeto\n",
    "type(df)"
   ]
  },
  {
   "cell_type": "markdown",
   "metadata": {},
   "source": [
    "DataFrame é o objeto central do Pandas, ele possui várias funções para interpretar e manipular tabelas de dados"
   ]
  },
  {
   "cell_type": "markdown",
   "metadata": {},
   "source": [
    "### Explorando os dados"
   ]
  },
  {
   "cell_type": "code",
   "execution_count": null,
   "metadata": {},
   "outputs": [],
   "source": [
    "# .head() mostra as primeiras linhas da tabela\n",
    "df.head()"
   ]
  },
  {
   "cell_type": "markdown",
   "metadata": {},
   "source": [
    ">  Temos informaçoes a respeito de quantas pessoas?"
   ]
  },
  {
   "cell_type": "code",
   "execution_count": null,
   "metadata": {},
   "outputs": [],
   "source": [
    "# .shape mostra o formato do DataFrame (linhas x colunas)\n",
    "df.shape"
   ]
  },
  {
   "cell_type": "code",
   "execution_count": null,
   "metadata": {},
   "outputs": [],
   "source": [
    "# .columns retorna o nome de cada coluna\n",
    "df.columns"
   ]
  },
  {
   "cell_type": "code",
   "execution_count": null,
   "metadata": {},
   "outputs": [],
   "source": [
    "# .dtypes mostra o tipo de cada coluna\n",
    "df.dtypes"
   ]
  },
  {
   "cell_type": "code",
   "execution_count": null,
   "metadata": {},
   "outputs": [],
   "source": [
    "# .describe() mostra várias estatísticas das variáveis\n",
    "df.describe()"
   ]
  },
  {
   "cell_type": "markdown",
   "metadata": {},
   "source": [
    "#### Acessando pedaços do DataFrame"
   ]
  },
  {
   "cell_type": "code",
   "execution_count": null,
   "metadata": {},
   "outputs": [],
   "source": [
    "df.head()"
   ]
  },
  {
   "cell_type": "markdown",
   "metadata": {},
   "source": [
    "É comum se encontrar em situações que queremos acessar apenas uma coluna do DataFrame ou que queremos olhar apenas um subconjunto de suas linhas."
   ]
  },
  {
   "cell_type": "markdown",
   "metadata": {},
   "source": [
    "> Qual é a média de idade das pessoas que estavam no Titanic?"
   ]
  },
  {
   "cell_type": "code",
   "execution_count": null,
   "metadata": {},
   "outputs": [],
   "source": [
    "# Seleciona apenas a coluna idade\n",
    "idades = df['Age']\n",
    "idades"
   ]
  },
  {
   "cell_type": "code",
   "execution_count": null,
   "metadata": {},
   "outputs": [],
   "source": [
    "# Podemos calcular por exemplo a média das idades\n",
    "idades.mean()"
   ]
  },
  {
   "cell_type": "markdown",
   "metadata": {},
   "source": [
    "> Qual a quantidade de homens na nossa base de dados?"
   ]
  },
  {
   "cell_type": "code",
   "execution_count": null,
   "metadata": {},
   "outputs": [],
   "source": [
    "# Vamos criar um DataFrame somente com homens \n",
    "homens = df['Sex'] == 'male' # Lista de True/False indicando se o exemplo da linha é homem\n",
    "df_homens = df[homens] # Seleciona apenas as listas com homens\n",
    "df_homens.head()"
   ]
  },
  {
   "cell_type": "code",
   "execution_count": null,
   "metadata": {},
   "outputs": [],
   "source": [
    "# Vamos ver o número de linhas\n",
    "df_homens.shape"
   ]
  },
  {
   "cell_type": "markdown",
   "metadata": {},
   "source": [
    "> Existe diferença na porcentagem de homens e de mulheres que sobreviveram?"
   ]
  },
  {
   "cell_type": "code",
   "execution_count": null,
   "metadata": {},
   "outputs": [],
   "source": [
    "# Já criamos um DataFrame só com homens, vamos fazer isso com as mulheres\n",
    "df_mulheres = df[df['Sex'] == 'female']\n",
    "df_mulheres.head()"
   ]
  },
  {
   "cell_type": "code",
   "execution_count": null,
   "metadata": {},
   "outputs": [],
   "source": [
    "# Vendo quais mulheres sobreviveram\n",
    "mulheres_sobreviveram = df_mulheres['Survived'] == 1\n",
    "# Contando quantas foram\n",
    "n_mulheres_sobreviveram = mulheres_sobreviveram.sum()\n",
    "\n",
    "# Vendo quais homens sobreviveram\n",
    "homens_sobreviveram = df_homens['Survived'] == 1\n",
    "# Contando quantos foram\n",
    "n_homens_sobreviveram = homens_sobreviveram.sum()\n",
    "\n",
    "print(n_mulheres_sobreviveram)\n",
    "print(n_homens_sobreviveram)"
   ]
  },
  {
   "cell_type": "code",
   "execution_count": null,
   "metadata": {},
   "outputs": [],
   "source": [
    "print('Mulheres:', n_mulheres_sobreviveram/df_mulheres.shape[0])\n",
    "print('Homens:', n_homens_sobreviveram/df_homens.shape[0])"
   ]
  },
  {
   "cell_type": "markdown",
   "metadata": {},
   "source": [
    "### Visualizando informações com gráficos\n",
    "\n",
    "Muitas vezes utilizar gráficos facilitam o entendimento de certas caracteristicas dos dados, vamos um exemplo de gráfico e entender um pouco mais sobre nossos dados"
   ]
  },
  {
   "cell_type": "markdown",
   "metadata": {},
   "source": [
    "> Como era a distribuição de tarifas do Titanic?"
   ]
  },
  {
   "cell_type": "code",
   "execution_count": null,
   "metadata": {},
   "outputs": [],
   "source": [
    "# Podemos usar um histograma para visualizar essa informação\n",
    "plt.hist(df['Fare']);"
   ]
  },
  {
   "cell_type": "code",
   "execution_count": null,
   "metadata": {},
   "outputs": [],
   "source": [
    "# Podemos refinar nosso histrograma\n",
    "plt.hist(df['Fare'], bins=50)\n",
    "plt.xlim((0, 300));"
   ]
  },
  {
   "cell_type": "code",
   "execution_count": null,
   "metadata": {},
   "outputs": [],
   "source": [
    "# Podemos colocar um título no nosso gráfico\n",
    "plt.hist(df['Fare'], bins=50)\n",
    "plt.xlim((0, 300))\n",
    "plt.title('Distribuição das tarifas');"
   ]
  },
  {
   "cell_type": "markdown",
   "metadata": {},
   "source": [
    "### Informações faltantes\n",
    "Como foi dito antes é muito comum termos dados faltante quando estamos trabalhando com problemas reais. Vamos ver como nosso conjunto está nesse quesito."
   ]
  },
  {
   "cell_type": "code",
   "execution_count": null,
   "metadata": {},
   "outputs": [],
   "source": [
    "# Vendo o número de nulos em cada coluna\n",
    "df.isna().sum()"
   ]
  },
  {
   "cell_type": "markdown",
   "metadata": {},
   "source": [
    "Temos basicamente três opções de como lidar com esses dados faltantes:\n",
    "    - Podemos remover as linhas que possuirem dados faltantes\n",
    "    - Podemos remover as colunas que possuirem dados faltantes\n",
    "    - Podemos substituir dados faltantes por algum valor (a média, por exemplo)"
   ]
  },
  {
   "cell_type": "code",
   "execution_count": null,
   "metadata": {},
   "outputs": [],
   "source": [
    "# Podemos ver o número de nulos de forma percentual também\n",
    "df.isna().sum() / df.shape[0]"
   ]
  },
  {
   "cell_type": "markdown",
   "metadata": {},
   "source": [
    "Temos 3 colunas que apresentam valores nulos, porém cada uma delas será tratada de uma diferente.\n",
    "\n",
    "- **Age**: Cerca de 20% dos valores dessa coluna são nulos, então vamos substituir os dados faltantes pela média dos valores da coluna\n",
    "- **Cabin**: Essa coluna não possui 77% dos seus valores, portanto não há muito o que pode ser feito, vamos jogar ela toda fora.\n",
    "- **Embarked**: Nesse caso só 0.2% das linhas possuem dados faltantes, vamos simplesmente remover essas linhas dos nossos dados\n",
    "\n",
    "Temos dois métodos que vão nos ajudar a lidar com nulos `.fillna()` e `.dropna()`"
   ]
  },
  {
   "cell_type": "markdown",
   "metadata": {},
   "source": [
    "`.fillna()` vai gerar uma cópia do que foi passado substituindo os valores nulos por um valor passado como parâmetro"
   ]
  },
  {
   "cell_type": "code",
   "execution_count": null,
   "metadata": {},
   "outputs": [],
   "source": [
    "# Vamos calcular a média das idades\n",
    "idade_media  = df['Age'].mean()\n",
    "\n",
    "# Substituindo a coluna pela coluna com NaN sustituidos\n",
    "df['Age'] = df['Age'].fillna(idade_media)"
   ]
  },
  {
   "cell_type": "code",
   "execution_count": null,
   "metadata": {},
   "outputs": [],
   "source": [
    "# Vamos ver se até agora aconteceu o que queriamos\n",
    "df.isna().sum()"
   ]
  },
  {
   "cell_type": "markdown",
   "metadata": {},
   "source": [
    "`.dropna()` retorna um DataFrame sem as colunas ou linhas que possuem valores nulos. \n",
    "\n",
    "Temos parâmetros importantes: `axis` indica se deseja remover linhas (0) ou colunas (1), `subset` indica as labels do outro eixo que podem ser consideradas para remoção, `thresh` indica o número minimo de nulos para ser removida e `inplace` indica se a operação deve ser realizada no próprio DataFrame ou uma cópia deve ser retornada."
   ]
  },
  {
   "cell_type": "code",
   "execution_count": null,
   "metadata": {},
   "outputs": [],
   "source": [
    "# Vamos começar removendo a coluna Cabin\n",
    "df.dropna(axis=1, thresh=600, inplace=True)\n",
    "df.head()"
   ]
  },
  {
   "cell_type": "code",
   "execution_count": null,
   "metadata": {},
   "outputs": [],
   "source": [
    "# Agora vamos remover as linhas que possuem Embarked nulo\n",
    "df.dropna(axis=0, subset=['Embarked'], inplace=True)"
   ]
  },
  {
   "cell_type": "code",
   "execution_count": null,
   "metadata": {},
   "outputs": [],
   "source": [
    "# Conferindo se limpamos tudo\n",
    "df.isna().sum()"
   ]
  },
  {
   "cell_type": "code",
   "execution_count": null,
   "metadata": {},
   "outputs": [],
   "source": [
    "# Conferindo a nova shape do DataFrame\n",
    "df.shape"
   ]
  },
  {
   "cell_type": "markdown",
   "metadata": {},
   "source": [
    "### Últimos preparativos antes do aprendizado"
   ]
  },
  {
   "cell_type": "markdown",
   "metadata": {},
   "source": [
    "> Quais das nossas colunas parecem não ser muito úteis para prever se uma pessoa vai ou não sobreviver?"
   ]
  },
  {
   "cell_type": "code",
   "execution_count": null,
   "metadata": {},
   "outputs": [],
   "source": [
    "df.head()"
   ]
  },
  {
   "cell_type": "markdown",
   "metadata": {},
   "source": [
    "Para retirar as colunas que não serão relevantes vamos utilizar o método `.drop`"
   ]
  },
  {
   "cell_type": "code",
   "execution_count": null,
   "metadata": {},
   "outputs": [],
   "source": [
    "# Removendo as colunas que não queremos\n",
    "df.drop(columns=['PassengerId', 'Name', 'Ticket'], inplace=True)\n",
    "# Vendo o resultado\n",
    "df.head()"
   ]
  },
  {
   "cell_type": "markdown",
   "metadata": {},
   "source": [
    "#### Nosso algoritmo só aceita valores numéricos\n",
    "\n",
    "É necessário transformar todas as features em valores númericos para podermos usalos em um modelo. Vamos pegar como exemplo a coluna COLUNA. Podemos ver que seus valores são strings, então é preciso de alguma forma transformá-los em números. Existem várias maneiras de fazer isso, mas podemos destacar duas principais formas básicas: *one-hot encoding* e *label encoding*. Vamos utilizar o seguinte exemplo:\n",
    "\n",
    "| Salário | Altura |  Animal  | Comprou |\n",
    "|:-------:|:------:|:--------:|:-------:|\n",
    "| 2630,00 |   170  |   Gato   |    0    |\n",
    "| 5650,00 |   169  | Cachorro |    1    |\n",
    "| 1250,00 |   185  |   Peixe  |    1    |\n",
    "| 8900,00 |   176  | Cachorro |    0    |\n",
    "\n",
    "\n",
    "<u><i>One-hot Encoding:</i></u>\n",
    "\n",
    "Utilizando o one-hot encoding iremos criar uma coluna para cada possível valor que a variável assume. Perceba que isso pode gastar muita memória, pense numa variável como \"país\" que pode assumir mais de 190 valores.\n",
    "\n",
    "| Salário | Altura | Animal Gato | Animal Cachorro | Animal Peixe | Comprou |\n",
    "|:-------:|:------:|:-----------:|:---------------:|:-----------:|:-------:|\n",
    "| 2630,00 |   170  |      1      |        0        |      0      |    0    |\n",
    "| 5650,00 |   169  |      0      |        1        |      0      |    1    |\n",
    "| 1250,00 |   185  |      0      |        0        |      1      |    1    |\n",
    "| 8900,00 |   176  |      0      |        1        |      0      |    0    |\n",
    "\n",
    "\n",
    "<u><i>Label Encoding:</i></u>\n",
    "\n",
    "Já no label encoding cada possível valor da feature é mapeado para um número inteiro. Porém isso cria uma relação de ordem entre os valores que não necessariamente é desejada.\n",
    "\n",
    "| Salário | Altura | Animal | Comprou |\n",
    "|:-------:|:------:|:------:|:-------:|\n",
    "| 2630,00 |   170  |    0   |    0    |\n",
    "| 5650,00 |   169  |    1   |    1    |\n",
    "| 1250,00 |   185  |    2   |    1    |\n",
    "| 8900,00 |   176  |    1   |    0    |"
   ]
  },
  {
   "cell_type": "code",
   "execution_count": null,
   "metadata": {},
   "outputs": [],
   "source": [
    "# Primeiro iremos conferir quais atributos não são numericos\n",
    "for col in df.columns:\n",
    "    if df[col].dtype == object:\n",
    "        print(col)"
   ]
  },
  {
   "cell_type": "code",
   "execution_count": null,
   "metadata": {},
   "outputs": [],
   "source": [
    "# Aplicar o one-hor encoding é bem simples\n",
    "df = pd.get_dummies(df)\n",
    "df.head()"
   ]
  },
  {
   "attachments": {
    "image.png": {
     "image/png": "[encoded data removed]"
    }
   },
   "cell_type": "markdown",
   "metadata": {},
   "source": [
    "#### Deixando os dados na mesma escala\n",
    "Para vários algoritmos é importante deixarmos os dados em uma mesma escala, e o kNN um desses casos. Para entender melhor vamos olhar o exemplo a seguir:\n",
    "\n",
    "![image.png](attachment:image.png)\n",
    "\n",
    "Nesse caso a distância entre os dois pontos é dada por\n",
    "\n",
    "$$\n",
    "\\begin{align*}\n",
    "\\text{dist}(x^{(1)}, x^{(2)}) &= \\sqrt{(x^{(1)}_1 - x^{(2)}_1)^2 + (x^{(1)}_2 - x^{(2)}_2)^2} \\\\\n",
    "  &= \\sqrt{(3 - 2)^2 + (10000 - 9000)^2} \\\\\n",
    "  &= \\sqrt{1 + 1000000} \\\\\n",
    "  &= \\sqrt{1000001} \\\\\n",
    "  &= 1000.0005\n",
    "\\end{align*}$$\n",
    "\n",
    "Como as escalas são muito diferentes o primeiro atributo acaba não interferindo em praticamente nada no resultado da distância. E é importante perceber que esse tipo de situação ocorre com frequência em conjuntos de dados reais.\n",
    "\n",
    "Existem diversas formas de tratar essa situação, aqui usaremos uma técnica chamada **Min-Max Scaling**, que transforma os dados deixando-os no intervalo $[0, 1]$. A formula é da transformação é a seguinte:\n",
    "\n",
    "$$x^{(i)}_j \\leftarrow \\frac{x^{(i)}_j - min(x_j)}{max(x_j) - min(x_j)}$$\n",
    "\n",
    "Em palavras significa que vamos subtrair o menor valor da atributo e dividir pela amplitude (diferença entre o máximo e o mínimo).\n",
    "\n",
    "\n",
    "Pronto, agora que entendemos podemos fazer fazer isso para todas as nossas colunas utilizando a função interna do scikit-learn"
   ]
  },
  {
   "cell_type": "code",
   "execution_count": null,
   "metadata": {},
   "outputs": [],
   "source": [
    "from sklearn.preprocessing import MinMaxScaler"
   ]
  },
  {
   "cell_type": "code",
   "execution_count": null,
   "metadata": {},
   "outputs": [],
   "source": [
    "# Criando o objeto que faz a transformação\n",
    "scaler = MinMaxScaler()\n",
    "# Ajustando para tranformação (calculando min max)\n",
    "scaler.fit(df)\n",
    "# Aplicando as transformações\n",
    "df_scaled = scaler.transform(df)"
   ]
  },
  {
   "cell_type": "code",
   "execution_count": null,
   "metadata": {},
   "outputs": [],
   "source": [
    "# O retorna do scaling não é um DataFrame\n",
    "type(df_scaled)"
   ]
  },
  {
   "cell_type": "code",
   "execution_count": null,
   "metadata": {},
   "outputs": [],
   "source": [
    "# Transformando de volta em um DataFrame\n",
    "df_scaled = pd.DataFrame(df_scaled, columns=df.columns)\n",
    "df_scaled.head()"
   ]
  },
  {
   "cell_type": "markdown",
   "metadata": {},
   "source": [
    "#### Dividindo nossos dados entre treino e validação\n",
    "Vamos dividir nossos dados entre treino e validação, estratégia que vimos na parte teórica para avaliar o desempenho do nossos modelo."
   ]
  },
  {
   "cell_type": "code",
   "execution_count": null,
   "metadata": {},
   "outputs": [],
   "source": [
    "# Vamos colocar em variavel quais são nossas features e qual é o target\n",
    "target = 'Survived'\n",
    "features = list(df_scaled.columns)\n",
    "features.remove(target)\n",
    "\n",
    "print('Features:', features)\n",
    "print('Target:', target)"
   ]
  },
  {
   "cell_type": "code",
   "execution_count": null,
   "metadata": {},
   "outputs": [],
   "source": [
    "from sklearn.model_selection import train_test_split\n",
    "\n",
    "X_train, X_val, y_train, y_val = train_test_split(df_scaled[features], df_scaled[target], test_size=0.2)\n",
    "\n",
    "print(X_train.shape)\n",
    "print(X_val.shape)\n",
    "print(y_train.shape)\n",
    "print(y_val.shape)"
   ]
  },
  {
   "cell_type": "markdown",
   "metadata": {},
   "source": [
    "### Tudo pronto para treinarmos um modelo"
   ]
  },
  {
   "cell_type": "code",
   "execution_count": null,
   "metadata": {},
   "outputs": [],
   "source": [
    "# Importando nosso classificador\n",
    "from sklearn.neighbors import KNeighborsClassifier\n",
    "\n",
    "# Criando o modelo que usa somento um vizinho\n",
    "clf = KNeighborsClassifier(n_neighbors=3)\n",
    "# Treinando o modelo nos dados de treino\n",
    "clf.fit(X_train, y_train)"
   ]
  },
  {
   "cell_type": "markdown",
   "metadata": {},
   "source": [
    "Vamos ver como esse modelo se comporta nos dados de validação que separamos"
   ]
  },
  {
   "cell_type": "code",
   "execution_count": null,
   "metadata": {},
   "outputs": [],
   "source": [
    "# Assim podemos usar o modelo para prever a classe de novos exemplos\n",
    "y_pred = clf.predict(X_val)"
   ]
  },
  {
   "cell_type": "code",
   "execution_count": null,
   "metadata": {},
   "outputs": [],
   "source": [
    "# Importar a função que calcula a acurácia\n",
    "from sklearn.metrics import accuracy_score\n",
    "\n",
    "acc = accuracy_score(y_val, y_pred)\n",
    "print('Acurácia:', acc)"
   ]
  },
  {
   "cell_type": "markdown",
   "metadata": {},
   "source": [
    "> Qual é o melhor número de vizinhos para utilizarmos?"
   ]
  },
  {
   "cell_type": "code",
   "execution_count": null,
   "metadata": {},
   "outputs": [],
   "source": [
    "# Criando lista com todos os números de vizinhos que queremos testar\n",
    "n_vizinhos = [1, 2, 3, 4, 5, 6, 7, 8, 9, 10]\n",
    "\n",
    "# Variaval para guardar maior acuracia\n",
    "maior_acc = 0\n",
    "# Melhor numero de vizinhos\n",
    "melhor_k = None\n",
    "\n",
    "# Para cada numero de vizinhos\n",
    "for k in n_vizinhos:\n",
    "    # Criamos um modelo novo e treinamos ele\n",
    "    clf = KNeighborsClassifier(n_neighbors=k)\n",
    "    clf.fit(X_train, y_train)\n",
    "    \n",
    "    # Fazendo predição para os dados de validação e calculando acurácia\n",
    "    y_pred = clf.predict(X_val)\n",
    "    acc = accuracy_score(y_val, y_pred)\n",
    "    \n",
    "    # Salvando o resultado se foi o melhor\n",
    "    if acc > maior_acc:\n",
    "        melhor_k = k\n",
    "        maior_acc = acc\n",
    "    \n",
    "    # Mostrando o resultado\n",
    "    print(f'{k} vizinhos: {acc}')    "
   ]
  },
  {
   "cell_type": "code",
   "execution_count": null,
   "metadata": {},
   "outputs": [],
   "source": [
    "melhor_k"
   ]
  },
  {
   "cell_type": "markdown",
   "metadata": {},
   "source": [
    "<hr>\n",
    "\n",
    "Chegamos ao fim do minicurso de introdução a ciência de dados. Evidentemente muitas coisas não foram mencionadas por se tratarem de tecnicas mais avançadas, porém o material que foi exposto apresenta o suficiente para uma pessoa começar no mundo da ciência de dados. Existem várias outras técnicas de análise, pré-processamento e algortimos de aprendizado de máquina, então recomendados a todos que se interessaram a acompanharem as atividades do Data para aprenderem mais sobre o assunto!\n",
    "\n",
    "Muito obrigado!"
   ]
  }
 ],
 "metadata": {
  "kernelspec": {
   "display_name": "Python 3",
   "language": "python",
   "name": "python3"
  },
  "language_info": {
   "codemirror_mode": {
    "name": "ipython",
    "version": 3
   },
   "file_extension": ".py",
   "mimetype": "text/x-python",
   "name": "python",
   "nbconvert_exporter": "python",
   "pygments_lexer": "ipython3",
   "version": "3.8.3"
  }
 },
 "nbformat": 4,
 "nbformat_minor": 4
}
